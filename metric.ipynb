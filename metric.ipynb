{
 "cells": [
  {
   "cell_type": "markdown",
   "metadata": {},
   "source": [
    "# Оценка точности модели\n",
    "\n",
    "В этой секции тестируется модель YOLO, обученная для детекции монет. Мы проводим валидацию модели на тестовом наборе данных и выводим метрики производительности."
   ]
  },
  {
   "cell_type": "code",
   "execution_count": 1,
   "metadata": {},
   "outputs": [
    {
     "data": {
      "text/plain": [
       "True"
      ]
     },
     "execution_count": 1,
     "metadata": {},
     "output_type": "execute_result"
    }
   ],
   "source": [
    "# Импорт необходимых библиотек\n",
    "from ultralytics import YOLO\n",
    "import torch\n",
    "\n",
    "# Проверяем, доступен ли CUDA для ускорения вычислений на GPU\n",
    "torch.cuda.is_available()"
   ]
  },
  {
   "cell_type": "code",
   "execution_count": 2,
   "metadata": {},
   "outputs": [
    {
     "name": "stdout",
     "output_type": "stream",
     "text": [
      "Ultralytics YOLOv8.2.91  Python-3.12.4 torch-2.4.1+cu124 CUDA:0 (NVIDIA GeForce RTX 4060, 8188MiB)\n",
      "Loading CoinCounter\\models\\model.onnx for ONNX Runtime inference...\n",
      "Setting batch=1 input of shape (1, 3, 640, 640)\n"
     ]
    },
    {
     "name": "stderr",
     "output_type": "stream",
     "text": [
      "\u001b[34m\u001b[1mval: \u001b[0mScanning A:\\rep\\portfolio\\detetct\\CoinCounter\\datasets\\test\\labels.cache... 131 images, 45 backgrounds, 0 corrupt: 100%|██████████| 131/131 [00:00<?, ?it/s]"
     ]
    },
    {
     "name": "stdout",
     "output_type": "stream",
     "text": [
      "WARNING  Box and segment counts should be equal, but got len(segments) = 29, len(boxes) = 683. To resolve this only boxes will be used and all segments will be removed. To avoid this please supply either a detect or segment dataset, not a detect-segment mixed dataset.\n"
     ]
    },
    {
     "name": "stderr",
     "output_type": "stream",
     "text": [
      "\n",
      "                 Class     Images  Instances      Box(P          R      mAP50  mAP50-95): 100%|██████████| 131/131 [00:01<00:00, 70.06it/s]\n"
     ]
    },
    {
     "name": "stdout",
     "output_type": "stream",
     "text": [
      "                   all        131        683      0.928      0.827      0.888       0.75\n",
      "Speed: 0.4ms preprocess, 9.7ms inference, 0.0ms loss, 1.4ms postprocess per image\n",
      "Results saved to \u001b[1ma:\\rep\\portfolio\\detetct\\CoinCounter\\runs\\detect\\val\u001b[0m\n"
     ]
    }
   ],
   "source": [
    "model = YOLO('CoinCounter/models/model.onnx', task='detect')\n",
    "data_yaml = 'datasets/data.yaml' \n",
    "\n",
    "# Валидация модели на тестовом наборе данных\n",
    "results  = model.val(data=data_yaml, split='test',verbose=False)"
   ]
  },
  {
   "cell_type": "code",
   "execution_count": 3,
   "metadata": {},
   "outputs": [
    {
     "name": "stdout",
     "output_type": "stream",
     "text": [
      "Precision: 0.9275618276560502\n",
      "Recall: 0.827353813454718\n",
      "mAP@0.5: 0.888304043578894\n",
      "mAP@0.5:0.95: 0.7499277467515681\n"
     ]
    }
   ],
   "source": [
    "# Выводим метрики тестирования модели\n",
    "# Precision, Recall, mAP@0.5, mAP@0.5:0.95\n",
    "print(f\"Precision: {results.results_dict['metrics/precision(B)']}\")\n",
    "print(f\"Recall: {results.results_dict['metrics/recall(B)']}\")\n",
    "print(f\"mAP@0.5: {results.results_dict['metrics/mAP50(B)']}\")\n",
    "print(f\"mAP@0.5:0.95: {results.results_dict['metrics/mAP50-95(B)']}\")"
   ]
  },
  {
   "cell_type": "markdown",
   "metadata": {},
   "source": [
    "## Описание метрик\n",
    "\n",
    "1. **Precision (Точность)** — 0.9276:\n",
    "   - Доля правильных предсказаний модели среди всех сделанных ею предсказаний. Если модель сообщает, что нашла объект, то с вероятностью 92.76% это действительно правильное определение.\n",
    "\n",
    "2. **Recall (Полнота)** — 0.8273:\n",
    "   - Доля правильных предсказаний модели среди всех объектов, которые действительно существуют в данных. Полнота показывает, насколько хорошо модель находит все истинные объекты.\n",
    "\n",
    "3. **mAP@0.5** — 0.8886:\n",
    "   - **Mean Average Precision (Средняя точность)** при пороге 0.5 (IoU ≥ 0.5). Это среднее значение точности по всем классам при условии, что предсказанный bounding box и истинный пересекаются не менее чем на 50%.\n",
    "\n",
    "4. **mAP@0.5:0.95** — 0.7501:\n",
    "   - Средняя точность при различных порогах пересечения IoU от 0.5 до 0.95 с шагом 0.05. Этот показатель учитывает различные уровни перекрытия объектов и предсказанных рамок."
   ]
  }
 ],
 "metadata": {
  "kernelspec": {
   "display_name": "venv",
   "language": "python",
   "name": "python3"
  },
  "language_info": {
   "codemirror_mode": {
    "name": "ipython",
    "version": 3
   },
   "file_extension": ".py",
   "mimetype": "text/x-python",
   "name": "python",
   "nbconvert_exporter": "python",
   "pygments_lexer": "ipython3",
   "version": "3.12.4"
  }
 },
 "nbformat": 4,
 "nbformat_minor": 2
}
